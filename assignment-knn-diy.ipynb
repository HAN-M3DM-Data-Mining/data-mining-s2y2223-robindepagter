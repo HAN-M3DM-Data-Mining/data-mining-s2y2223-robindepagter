{
  "cells": [
    {
      "cell_type": "raw",
      "id": "3179b2eb",
      "metadata": {},
      "source": [
        "---\n",
        "title: \"Assigment - kNN DIY Diabetes\"\n",
        "author:\n",
        "  - Robin de Pagter - Author\n",
        "  - Kevin Hoksbergen - Reviewer\n",
        "date: \"`r format(Sys.time(), '%d %B, %Y')`\"\n",
        "output:\n",
        "   html_notebook:\n",
        "    toc: true\n",
        "    toc_depth: 2\n",
        "---"
      ]
    },
    {
      "cell_type": "markdown",
      "id": "040f84b0",
      "metadata": {},
      "source": [
        "**All libraries and functions used in this project:**"
      ]
    },
    {
      "cell_type": "code",
      "execution_count": 1,
      "id": "68b57fe3",
      "metadata": {},
      "outputs": [],
      "source": [
        "import pandas as pd\n",
        "from sklearn.model_selection import train_test_split\n",
        "from sklearn.neighbors import KNeighborsClassifier\n",
        "from sklearn.metrics import confusion_matrix, ConfusionMatrixDisplay\n",
        "import matplotlib.pyplot as plt"
      ]
    },
    {
      "cell_type": "markdown",
      "id": "fd5227f6",
      "metadata": {},
      "source": [
        "## Business Understanding - Diabetes data\n",
        "The dataset that is used in this kNN model, is that of people above the age of 21 who have been tested for diabetes. Some of these people are diabetic and some were tested not to be diabetic. The goal of the machine learning model that will be built is to determine, with the available data, whether or not a person could possibly be diabetic. By simply testing certain parts of the person's health, we could use the ML-model to quickly determine which person could have diabetes and who could not. This can then be used to further aid the person that has been tested.\n",
        "\n",
        "## Data Understanding - Loading the data\n",
        "The data used is that of the \"National Institute of Diabetes and Digestive and Kidney Diseases\" and has been made available for research purposes. The dataset includes certain values that are used to determine possible diabetes, like bloodpressure, insulin, and BMI. All data originates from atleast 21 year old females of Pima Indian Heritage\n",
        "\n",
        "The data is in the format of CSV for easy use, it will be imported from a github enviroment.\n",
        "\n",
        "To load the data into our script, the following code will be used:\n"
      ]
    },
    {
      "cell_type": "code",
      "execution_count": 2,
      "id": "1ff1ce37",
      "metadata": {},
      "outputs": [],
      "source": [
        "URL = \"datasets\\KNN-diabetes.csv\"\n",
        "rawData = pd.read_csv(URL)"
      ]
    },
    {
      "cell_type": "markdown",
      "id": "f3bca8bd",
      "metadata": {},
      "source": [
        "To preview the columns and their data types, the following line of code can be used:\n"
      ]
    },
    {
      "cell_type": "code",
      "execution_count": 3,
      "id": "9ff981fb",
      "metadata": {},
      "outputs": [
        {
          "name": "stdout",
          "output_type": "stream",
          "text": [
            "<class 'pandas.core.frame.DataFrame'>\n",
            "RangeIndex: 768 entries, 0 to 767\n",
            "Data columns (total 9 columns):\n",
            " #   Column                    Non-Null Count  Dtype  \n",
            "---  ------                    --------------  -----  \n",
            " 0   Pregnancies               768 non-null    int64  \n",
            " 1   Glucose                   768 non-null    int64  \n",
            " 2   BloodPressure             768 non-null    int64  \n",
            " 3   SkinThickness             768 non-null    int64  \n",
            " 4   Insulin                   768 non-null    int64  \n",
            " 5   BMI                       768 non-null    float64\n",
            " 6   DiabetesPedigreeFunction  768 non-null    float64\n",
            " 7   Age                       768 non-null    int64  \n",
            " 8   Outcome                   768 non-null    int64  \n",
            "dtypes: float64(2), int64(7)\n",
            "memory usage: 54.1 KB\n"
          ]
        }
      ],
      "source": [
        "rawData.info()"
      ]
    },
    {
      "cell_type": "markdown",
      "id": "280dc9af",
      "metadata": {},
      "source": [
        "## Data Preparation - Transforming the data\n",
        "All data inside the data set is relevant for making predictions. There are no ID's or other columns that have no relation to the health of the patient being tested, this is why we will use every column available. \n"
      ]
    },
    {
      "cell_type": "code",
      "execution_count": 4,
      "id": "11683763",
      "metadata": {},
      "outputs": [
        {
          "data": {
            "text/html": [
              "<div>\n",
              "<style scoped>\n",
              "    .dataframe tbody tr th:only-of-type {\n",
              "        vertical-align: middle;\n",
              "    }\n",
              "\n",
              "    .dataframe tbody tr th {\n",
              "        vertical-align: top;\n",
              "    }\n",
              "\n",
              "    .dataframe thead th {\n",
              "        text-align: right;\n",
              "    }\n",
              "</style>\n",
              "<table border=\"1\" class=\"dataframe\">\n",
              "  <thead>\n",
              "    <tr style=\"text-align: right;\">\n",
              "      <th></th>\n",
              "      <th>Pregnancies</th>\n",
              "      <th>Glucose</th>\n",
              "      <th>BloodPressure</th>\n",
              "      <th>SkinThickness</th>\n",
              "      <th>Insulin</th>\n",
              "      <th>BMI</th>\n",
              "      <th>DiabetesPedigreeFunction</th>\n",
              "      <th>Age</th>\n",
              "      <th>Outcome</th>\n",
              "    </tr>\n",
              "  </thead>\n",
              "  <tbody>\n",
              "    <tr>\n",
              "      <th>0</th>\n",
              "      <td>6</td>\n",
              "      <td>148</td>\n",
              "      <td>72</td>\n",
              "      <td>35</td>\n",
              "      <td>0</td>\n",
              "      <td>33.6</td>\n",
              "      <td>0.627</td>\n",
              "      <td>50</td>\n",
              "      <td>1</td>\n",
              "    </tr>\n",
              "    <tr>\n",
              "      <th>1</th>\n",
              "      <td>1</td>\n",
              "      <td>85</td>\n",
              "      <td>66</td>\n",
              "      <td>29</td>\n",
              "      <td>0</td>\n",
              "      <td>26.6</td>\n",
              "      <td>0.351</td>\n",
              "      <td>31</td>\n",
              "      <td>0</td>\n",
              "    </tr>\n",
              "    <tr>\n",
              "      <th>2</th>\n",
              "      <td>8</td>\n",
              "      <td>183</td>\n",
              "      <td>64</td>\n",
              "      <td>0</td>\n",
              "      <td>0</td>\n",
              "      <td>23.3</td>\n",
              "      <td>0.672</td>\n",
              "      <td>32</td>\n",
              "      <td>1</td>\n",
              "    </tr>\n",
              "    <tr>\n",
              "      <th>3</th>\n",
              "      <td>1</td>\n",
              "      <td>89</td>\n",
              "      <td>66</td>\n",
              "      <td>23</td>\n",
              "      <td>94</td>\n",
              "      <td>28.1</td>\n",
              "      <td>0.167</td>\n",
              "      <td>21</td>\n",
              "      <td>0</td>\n",
              "    </tr>\n",
              "    <tr>\n",
              "      <th>4</th>\n",
              "      <td>0</td>\n",
              "      <td>137</td>\n",
              "      <td>40</td>\n",
              "      <td>35</td>\n",
              "      <td>168</td>\n",
              "      <td>43.1</td>\n",
              "      <td>2.288</td>\n",
              "      <td>33</td>\n",
              "      <td>1</td>\n",
              "    </tr>\n",
              "  </tbody>\n",
              "</table>\n",
              "</div>"
            ],
            "text/plain": [
              "   Pregnancies  Glucose  BloodPressure  SkinThickness  Insulin   BMI  \\\n",
              "0            6      148             72             35        0  33.6   \n",
              "1            1       85             66             29        0  26.6   \n",
              "2            8      183             64              0        0  23.3   \n",
              "3            1       89             66             23       94  28.1   \n",
              "4            0      137             40             35      168  43.1   \n",
              "\n",
              "   DiabetesPedigreeFunction  Age  Outcome  \n",
              "0                     0.627   50        1  \n",
              "1                     0.351   31        0  \n",
              "2                     0.672   32        1  \n",
              "3                     0.167   21        0  \n",
              "4                     2.288   33        1  "
            ]
          },
          "execution_count": 4,
          "metadata": {},
          "output_type": "execute_result"
        }
      ],
      "source": [
        "#As far as the dataset goes, there are no columns that can not be used for predicting diabetes in other words: nothing has to be eliminated from the dataset.\n",
        "prepData = rawData\n",
        "prepData.head()"
      ]
    },
    {
      "cell_type": "markdown",
      "id": "9ac4d08f",
      "metadata": {},
      "source": [
        "According to the dataset's description, the column 'Outcome' contains the answers we want to predict. A 0 means the patient was tested but does not have diabetes, and a 1 means the patient that was tested did in fact have diabetes. Using the following lines of code, we can quickly determine how many patients were tested positively and negatively. We will also add a line of code to determine a normalized view of these results:\n"
      ]
    },
    {
      "cell_type": "code",
      "execution_count": 5,
      "id": "4e6f03fa",
      "metadata": {},
      "outputs": [
        {
          "data": {
            "text/plain": [
              "0    0.651042\n",
              "1    0.348958\n",
              "Name: Outcome, dtype: float64"
            ]
          },
          "execution_count": 5,
          "metadata": {},
          "output_type": "execute_result"
        }
      ],
      "source": [
        "#The column 'Outcome' is what we want to predict, 1 is tested and diagnosed with Diabetes and 0 is tested but not diagnosed with diabetes.\n",
        "cntOutcome = prepData['Outcome'].value_counts()\n",
        "propOutcome = prepData['Outcome'].value_counts(normalize=True)\n",
        "\n",
        "#Amount of Outcomes\n",
        "cntOutcome\n",
        "\n",
        "#Normalized amount of Outcomes\n",
        "propOutcome"
      ]
    },
    {
      "cell_type": "markdown",
      "id": "f131fecb",
      "metadata": {},
      "source": [
        "To be able to use this field in our algorithm we will have to convert the datatype from the 'int64' to 'category'\n"
      ]
    },
    {
      "cell_type": "code",
      "execution_count": 6,
      "id": "38206940",
      "metadata": {},
      "outputs": [
        {
          "data": {
            "text/plain": [
              "0      1\n",
              "1      0\n",
              "2      1\n",
              "3      0\n",
              "4      1\n",
              "      ..\n",
              "763    0\n",
              "764    0\n",
              "765    0\n",
              "766    1\n",
              "767    0\n",
              "Name: Outcome, Length: 768, dtype: category\n",
              "Categories (2, int64): [0, 1]"
            ]
          },
          "execution_count": 6,
          "metadata": {},
          "output_type": "execute_result"
        }
      ],
      "source": [
        "#Transform the column 'Outcome' to the type Category instead of integer. \n",
        "#This is necessary since most models in general cannot use an Integer as a category, they require a column of the type 'Category\n",
        "categoryType = pd.CategoricalDtype(categories=[0, 1], ordered=False)\n",
        "prepData['Outcome'] = prepData['Outcome'].astype(categoryType)\n",
        "prepData['Outcome']"
      ]
    },
    {
      "cell_type": "markdown",
      "id": "4ad24bbd",
      "metadata": {},
      "source": [
        "To prepare our data for the model we must first normalize it. This will prevent certain broader ranges of data to negatively influence our outcomes. To normalize our data we will create a normalizing function:\n"
      ]
    },
    {
      "cell_type": "code",
      "execution_count": 7,
      "id": "529006ed",
      "metadata": {},
      "outputs": [],
      "source": [
        "def normalize(x):\n",
        "  return((x - min(x)) / (max(x) - min(x))) #function to normalize"
      ]
    },
    {
      "cell_type": "markdown",
      "id": "de998cbe",
      "metadata": {},
      "source": [
        "We will then use this function on our data as following:\n"
      ]
    },
    {
      "cell_type": "code",
      "execution_count": 8,
      "id": "37390b2b",
      "metadata": {},
      "outputs": [
        {
          "data": {
            "text/html": [
              "<div>\n",
              "<style scoped>\n",
              "    .dataframe tbody tr th:only-of-type {\n",
              "        vertical-align: middle;\n",
              "    }\n",
              "\n",
              "    .dataframe tbody tr th {\n",
              "        vertical-align: top;\n",
              "    }\n",
              "\n",
              "    .dataframe thead th {\n",
              "        text-align: right;\n",
              "    }\n",
              "</style>\n",
              "<table border=\"1\" class=\"dataframe\">\n",
              "  <thead>\n",
              "    <tr style=\"text-align: right;\">\n",
              "      <th></th>\n",
              "      <th>Pregnancies</th>\n",
              "      <th>Glucose</th>\n",
              "      <th>BloodPressure</th>\n",
              "      <th>SkinThickness</th>\n",
              "      <th>Insulin</th>\n",
              "      <th>BMI</th>\n",
              "      <th>DiabetesPedigreeFunction</th>\n",
              "      <th>Age</th>\n",
              "    </tr>\n",
              "  </thead>\n",
              "  <tbody>\n",
              "    <tr>\n",
              "      <th>count</th>\n",
              "      <td>768.000000</td>\n",
              "      <td>768.000000</td>\n",
              "      <td>768.000000</td>\n",
              "      <td>768.000000</td>\n",
              "      <td>768.000000</td>\n",
              "      <td>768.000000</td>\n",
              "      <td>768.000000</td>\n",
              "      <td>768.000000</td>\n",
              "    </tr>\n",
              "    <tr>\n",
              "      <th>mean</th>\n",
              "      <td>0.226180</td>\n",
              "      <td>0.607510</td>\n",
              "      <td>0.566438</td>\n",
              "      <td>0.207439</td>\n",
              "      <td>0.094326</td>\n",
              "      <td>0.476790</td>\n",
              "      <td>0.168179</td>\n",
              "      <td>0.204015</td>\n",
              "    </tr>\n",
              "    <tr>\n",
              "      <th>std</th>\n",
              "      <td>0.198210</td>\n",
              "      <td>0.160666</td>\n",
              "      <td>0.158654</td>\n",
              "      <td>0.161134</td>\n",
              "      <td>0.136222</td>\n",
              "      <td>0.117499</td>\n",
              "      <td>0.141473</td>\n",
              "      <td>0.196004</td>\n",
              "    </tr>\n",
              "    <tr>\n",
              "      <th>min</th>\n",
              "      <td>0.000000</td>\n",
              "      <td>0.000000</td>\n",
              "      <td>0.000000</td>\n",
              "      <td>0.000000</td>\n",
              "      <td>0.000000</td>\n",
              "      <td>0.000000</td>\n",
              "      <td>0.000000</td>\n",
              "      <td>0.000000</td>\n",
              "    </tr>\n",
              "    <tr>\n",
              "      <th>25%</th>\n",
              "      <td>0.058824</td>\n",
              "      <td>0.497487</td>\n",
              "      <td>0.508197</td>\n",
              "      <td>0.000000</td>\n",
              "      <td>0.000000</td>\n",
              "      <td>0.406855</td>\n",
              "      <td>0.070773</td>\n",
              "      <td>0.050000</td>\n",
              "    </tr>\n",
              "    <tr>\n",
              "      <th>50%</th>\n",
              "      <td>0.176471</td>\n",
              "      <td>0.587940</td>\n",
              "      <td>0.590164</td>\n",
              "      <td>0.232323</td>\n",
              "      <td>0.036052</td>\n",
              "      <td>0.476900</td>\n",
              "      <td>0.125747</td>\n",
              "      <td>0.133333</td>\n",
              "    </tr>\n",
              "    <tr>\n",
              "      <th>75%</th>\n",
              "      <td>0.352941</td>\n",
              "      <td>0.704774</td>\n",
              "      <td>0.655738</td>\n",
              "      <td>0.323232</td>\n",
              "      <td>0.150414</td>\n",
              "      <td>0.545455</td>\n",
              "      <td>0.234095</td>\n",
              "      <td>0.333333</td>\n",
              "    </tr>\n",
              "    <tr>\n",
              "      <th>max</th>\n",
              "      <td>1.000000</td>\n",
              "      <td>1.000000</td>\n",
              "      <td>1.000000</td>\n",
              "      <td>1.000000</td>\n",
              "      <td>1.000000</td>\n",
              "      <td>1.000000</td>\n",
              "      <td>1.000000</td>\n",
              "      <td>1.000000</td>\n",
              "    </tr>\n",
              "  </tbody>\n",
              "</table>\n",
              "</div>"
            ],
            "text/plain": [
              "       Pregnancies     Glucose  BloodPressure  SkinThickness     Insulin  \\\n",
              "count   768.000000  768.000000     768.000000     768.000000  768.000000   \n",
              "mean      0.226180    0.607510       0.566438       0.207439    0.094326   \n",
              "std       0.198210    0.160666       0.158654       0.161134    0.136222   \n",
              "min       0.000000    0.000000       0.000000       0.000000    0.000000   \n",
              "25%       0.058824    0.497487       0.508197       0.000000    0.000000   \n",
              "50%       0.176471    0.587940       0.590164       0.232323    0.036052   \n",
              "75%       0.352941    0.704774       0.655738       0.323232    0.150414   \n",
              "max       1.000000    1.000000       1.000000       1.000000    1.000000   \n",
              "\n",
              "              BMI  DiabetesPedigreeFunction         Age  \n",
              "count  768.000000                768.000000  768.000000  \n",
              "mean     0.476790                  0.168179    0.204015  \n",
              "std      0.117499                  0.141473    0.196004  \n",
              "min      0.000000                  0.000000    0.000000  \n",
              "25%      0.406855                  0.070773    0.050000  \n",
              "50%      0.476900                  0.125747    0.133333  \n",
              "75%      0.545455                  0.234095    0.333333  \n",
              "max      1.000000                  1.000000    1.000000  "
            ]
          },
          "execution_count": 8,
          "metadata": {},
          "output_type": "execute_result"
        }
      ],
      "source": [
        "excluded = ['Outcome'] #This column will be excluded\n",
        "X = prepData.loc[:, ~prepData.columns.isin(excluded)] #This will fetch the data minus the excluded column and put it into the variable X\n",
        "X = X.apply(normalize, axis=0) #This will drag the variable X through the normalize function\n",
        "\n",
        "#To view the results of our normalized data, we use the following code\n",
        "y = prepData['Outcome']\n",
        "X[['Pregnancies', 'Glucose', 'BloodPressure', 'SkinThickness', 'Insulin', 'BMI', 'DiabetesPedigreeFunction', 'Age']].describe()"
      ]
    },
    {
      "cell_type": "markdown",
      "id": "c4b5ffd9",
      "metadata": {},
      "source": [
        "Now that our data is normalized, we can start by splitting our set into 2: a test set and a training set. The training set will be used to train our model while the test will be used to see if our model is trained well.\n"
      ]
    },
    {
      "cell_type": "code",
      "execution_count": 9,
      "id": "68fb0717",
      "metadata": {},
      "outputs": [],
      "source": [
        "#The test set is 0.3 or 30% of our total dataset, the remainder is used to train our data.\n",
        "X_train, X_test, y_train, y_test = train_test_split(X, y, test_size=0.3, random_state=123, stratify=y)"
      ]
    },
    {
      "cell_type": "markdown",
      "id": "7789a007",
      "metadata": {},
      "source": [
        "Our data is now prepared and ready to enter the model.\n",
        "\n",
        "## Modeling - Machine Learning\n",
        "According to the information in our Data Mining in Python workbook, KNN is an instance-based learning algorithm. It stores all of the training data and makes predictions based on the similarity between the input instance and the stored instances. The prediction is based on the majority class among the K nearest neighbors of the input instance.\n",
        "\n",
        "KNN in pseudocode: "
      ]
    },
    {
      "cell_type": "code",
      "execution_count": 10,
      "id": "b7a8f33a",
      "metadata": {},
      "outputs": [
        {
          "ename": "SyntaxError",
          "evalue": "invalid syntax (148008119.py, line 1)",
          "output_type": "error",
          "traceback": [
            "\u001b[1;36m  Cell \u001b[1;32mIn[10], line 1\u001b[1;36m\u001b[0m\n\u001b[1;33m    for each instance in the test set:\u001b[0m\n\u001b[1;37m             ^\u001b[0m\n\u001b[1;31mSyntaxError\u001b[0m\u001b[1;31m:\u001b[0m invalid syntax\n"
          ]
        }
      ],
      "source": [
        "# for each instance in the test set:\n",
        "#     for each instance in the training set:\n",
        "#         calculate the distance between the two instances\n",
        "#     sort the distances in ascending order\n",
        "#     find the K nearest neighbors\n",
        "#     predict the class based on the majority class among the K "
      ]
    },
    {
      "cell_type": "markdown",
      "id": "bbb4316e",
      "metadata": {},
      "source": [
        "We only need a few lines of code to train our model using the fit() function. This will train our model to be applied to the test data. It goes as follows:\n"
      ]
    },
    {
      "cell_type": "code",
      "execution_count": null,
      "id": "7567a89b",
      "metadata": {},
      "outputs": [],
      "source": [
        "knn = KNeighborsClassifier(n_neighbors=5)\n",
        "knn.fit(X_train, y_train)"
      ]
    },
    {
      "cell_type": "markdown",
      "id": "50a407c1",
      "metadata": {},
      "source": [
        "Now using the predict function, we can use the trained model to predict the test data:\n"
      ]
    },
    {
      "cell_type": "code",
      "execution_count": null,
      "id": "cd05abba",
      "metadata": {},
      "outputs": [],
      "source": [
        "y_pred = knn.predict(X_test)"
      ]
    },
    {
      "cell_type": "markdown",
      "id": "0d301c9a",
      "metadata": {},
      "source": [
        "The predicted and actual outcomes can now be visualized in a table like the diffusion table. For this diffusion table we will use the confusionmatrix functions.\n"
      ]
    },
    {
      "cell_type": "code",
      "execution_count": null,
      "id": "2f232d28",
      "metadata": {},
      "outputs": [],
      "source": [
        "cm = confusion_matrix(y_test, y_pred, labels=knn.classes_)\n",
        "cm\n",
        "\n",
        "disp = ConfusionMatrixDisplay(confusion_matrix=cm, display_labels=knn.classes_)\n",
        "disp.plot()\n",
        "\n",
        "plt.show()"
      ]
    },
    {
      "cell_type": "markdown",
      "id": "de7882c2",
      "metadata": {},
      "source": [
        "## Evaluation and Deployment\n",
        "A simple evaluation of our model can be done with code as well as looking at our generated diffusion table.\n",
        "\n",
        "The code that we can use will simply give the values for how accurate our model was and how efficient it was:"
      ]
    },
    {
      "cell_type": "code",
      "execution_count": null,
      "id": "93b2db6a",
      "metadata": {},
      "outputs": [],
      "source": [
        "#Check performance using accuracy - Accuracy score of the model\n",
        "print(accuracy_score(y_test, y_pred))\n",
        "#Check performance using roc - Efficiency score of the model\n",
        "roc_auc_score(y_test, y_pred)"
      ]
    },
    {
      "cell_type": "markdown",
      "id": "eb8be819",
      "metadata": {},
      "source": [
        "If we take a look at our earlier diffusion table, we can see that the model generated a lot of false negatives which could indicate that our model was not extremely accurate. The code however indicates that our model was about 76% accurate and 70% efficient.\n",
        "\n",
        "## Reviewer' notes\n",
        "reviewer adds suggestions for improving the model"
      ]
    }
  ],
  "metadata": {
    "kernelspec": {
      "display_name": "Python 3",
      "language": "python",
      "name": "python3"
    },
    "language_info": {
      "codemirror_mode": {
        "name": "ipython",
        "version": 3
      },
      "file_extension": ".py",
      "mimetype": "text/x-python",
      "name": "python",
      "nbconvert_exporter": "python",
      "pygments_lexer": "ipython3",
      "version": "3.10.10"
    }
  },
  "nbformat": 4,
  "nbformat_minor": 5
}
