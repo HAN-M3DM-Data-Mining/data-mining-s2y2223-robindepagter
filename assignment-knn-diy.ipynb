{
  "cells": [
    {
      "cell_type": "raw",
      "id": "66e04707",
      "metadata": {},
      "source": [
        "---\n",
        "title: \"Assigment - kNN DIY Diabetes\"\n",
        "author:\n",
        "  - Robin de Pagter - Author\n",
        "  - Kevin Hoksbergen - Reviewer\n",
        "date: \"`r format(Sys.time(), '%d %B, %Y')`\"\n",
        "output:\n",
        "   html_notebook:\n",
        "    toc: true\n",
        "    toc_depth: 2\n",
        "---"
      ]
    },
    {
      "cell_type": "markdown",
      "id": "f093b616",
      "metadata": {},
      "source": [
        "**All libraries and functions used in this project:**"
      ]
    },
    {
      "cell_type": "code",
      "execution_count": null,
      "id": "ec123e23",
      "metadata": {
        "vscode": {
          "languageId": "python"
        }
      },
      "outputs": [],
      "source": [
        "import pandas as pd\n",
        "from sklearn.model_selection import train_test_split\n",
        "from sklearn.neighbors import KNeighborsClassifier\n",
        "from sklearn.metrics import confusion_matrix, ConfusionMatrixDisplay\n",
        "import matplotlib.pyplot as plt\n",
        "from sklearn.metrics import accuracy_score\n",
        "from sklearn.metrics import roc_auc_score"
      ]
    },
    {
      "cell_type": "markdown",
      "id": "6d89ad2c",
      "metadata": {},
      "source": [
        "## Business Understanding - Diabetes data\n",
        "The dataset that is used in this kNN model, is that of people above the age of 21 who have been tested for diabetes. Some of these people are diabetic and some were tested not to be diabetic. The goal of the machine learning model that will be built is to determine, with the available data, whether or not a person could possibly be diabetic. By simply testing certain parts of the person's health, we could use the ML-model to quickly determine which person could have diabetes and who could not. This can then be used to further aid the person that has been tested.\n",
        "\n",
        "## Data Understanding - Loading the data\n",
        "The data used is that of the \"National Institute of Diabetes and Digestive and Kidney Diseases\" and has been made available for research purposes. The dataset includes certain values that are used to determine possible diabetes, like bloodpressure, insulin, and BMI. All data originates from atleast 21 year old females of Pima Indian Heritage\n",
        "\n",
        "The data is in the format of CSV for easy use, it will be imported from a github enviroment.\n",
        "\n",
        "To load the data into our script, the following code will be used:\n"
      ]
    },
    {
      "cell_type": "code",
      "execution_count": null,
      "id": "e3d5f3e1",
      "metadata": {
        "vscode": {
          "languageId": "python"
        }
      },
      "outputs": [],
      "source": [
        "URL = \"datasets\\KNN-diabetes.csv\"\n",
        "rawData = pd.read_csv(URL)"
      ]
    },
    {
      "cell_type": "markdown",
      "id": "f77ca0a6",
      "metadata": {},
      "source": [
        "To preview the columns and their data types, the following line of code can be used:\n"
      ]
    },
    {
      "cell_type": "code",
      "execution_count": null,
      "id": "f4176f24",
      "metadata": {
        "vscode": {
          "languageId": "python"
        }
      },
      "outputs": [],
      "source": [
        "rawData.info()"
      ]
    },
    {
      "cell_type": "markdown",
      "id": "555136f0",
      "metadata": {},
      "source": [
        "## Data Preparation - Transforming the data\n",
        "All data inside the data set is relevant for making predictions. There are no ID's or other columns that have no relation to the health of the patient being tested, this is why we will use every column available. \n"
      ]
    },
    {
      "cell_type": "code",
      "execution_count": null,
      "id": "97bf19ca",
      "metadata": {
        "vscode": {
          "languageId": "python"
        }
      },
      "outputs": [],
      "source": [
        "#As far as the dataset goes, there are no columns that can not be used for predicting diabetes in other words: nothing has to be eliminated from the dataset.\n",
        "prepData = rawData\n",
        "prepData.head()"
      ]
    },
    {
      "cell_type": "markdown",
      "id": "c16a5426",
      "metadata": {},
      "source": [
        "According to the dataset's description, the column 'Outcome' contains the answers we want to predict. A 0 means the patient was tested but does not have diabetes, and a 1 means the patient that was tested did in fact have diabetes. Using the following lines of code, we can quickly determine how many patients were tested positively and negatively. We will also add a line of code to determine a normalized view of these results:\n"
      ]
    },
    {
      "cell_type": "code",
      "execution_count": null,
      "id": "56cc3df5",
      "metadata": {
        "vscode": {
          "languageId": "python"
        }
      },
      "outputs": [],
      "source": [
        "#The column 'Outcome' is what we want to predict, 1 is tested and diagnosed with Diabetes and 0 is tested but not diagnosed with diabetes.\n",
        "cntOutcome = prepData['Outcome'].value_counts()\n",
        "propOutcome = prepData['Outcome'].value_counts(normalize=True)\n",
        "\n",
        "#Amount of Outcomes\n",
        "cntOutcome\n",
        "\n",
        "#Normalized amount of Outcomes\n",
        "propOutcome"
      ]
    },
    {
      "cell_type": "markdown",
      "id": "b3c674a9",
      "metadata": {},
      "source": [
        "To be able to use this field in our algorithm we will have to convert the datatype from the 'int64' to 'category'\n"
      ]
    },
    {
      "cell_type": "code",
      "execution_count": null,
      "id": "d8c21396",
      "metadata": {
        "vscode": {
          "languageId": "python"
        }
      },
      "outputs": [],
      "source": [
        "#Transform the column 'Outcome' to the type Category instead of integer. \n",
        "#This is necessary since most models in general cannot use an Integer as a category, they require a column of the type 'Category\n",
        "categoryType = pd.CategoricalDtype(categories=[0, 1], ordered=False)\n",
        "prepData['Outcome'] = prepData['Outcome'].astype(categoryType)\n",
        "prepData['Outcome']"
      ]
    },
    {
      "cell_type": "markdown",
      "id": "31a907ba",
      "metadata": {},
      "source": [
        "To prepare our data for the model we must first normalize it. This will prevent certain broader ranges of data to negatively influence our outcomes. For testing purposes different methods have been used like robust and standard scaling. None of which increased the accuracy of the KNN model above a normalized dataset. To normalize our data we will create a normalizing function:\n"
      ]
    },
    {
      "cell_type": "code",
      "execution_count": null,
      "id": "96a6a44b",
      "metadata": {
        "vscode": {
          "languageId": "python"
        }
      },
      "outputs": [],
      "source": [
        "def normalize(x):\n",
        "  return((x - min(x)) / (max(x) - min(x))) #function to normalize"
      ]
    },
    {
      "cell_type": "markdown",
      "id": "5ef91296",
      "metadata": {},
      "source": [
        "We will then use this function on our data as following:\n"
      ]
    },
    {
      "cell_type": "code",
      "execution_count": null,
      "id": "b2e510ed",
      "metadata": {
        "vscode": {
          "languageId": "python"
        }
      },
      "outputs": [],
      "source": [
        "excluded = ['Outcome'] #This column will be excluded\n",
        "X = prepData.loc[:, ~prepData.columns.isin(excluded)] #This will fetch the data minus the excluded column and put it into the variable X\n",
        "X = X.apply(normalize, axis=0) #This will drag the variable X through the normalize function\n",
        "\n",
        "#To view the results of our normalized data, we use the following code\n",
        "y = prepData['Outcome']\n",
        "X[['Pregnancies', 'Glucose', 'BloodPressure', 'SkinThickness', 'Insulin', 'BMI', 'DiabetesPedigreeFunction', 'Age']].describe()"
      ]
    },
    {
      "cell_type": "markdown",
      "id": "6ce7938c",
      "metadata": {},
      "source": [
        "Now that our data is normalized, we can start by splitting our set into 2: a test set and a training set. The training set will be used to train our model while the test will be used to see if our model is trained well.\n"
      ]
    },
    {
      "cell_type": "code",
      "execution_count": null,
      "id": "e3c36760",
      "metadata": {
        "vscode": {
          "languageId": "python"
        }
      },
      "outputs": [],
      "source": [
        "#The test set is 0.3 or 30% of our total dataset, the remainder is used to train our data.\n",
        "X_train, X_test, y_train, y_test = train_test_split(X, y, test_size=0.3, random_state=123, stratify=y)"
      ]
    },
    {
      "cell_type": "markdown",
      "id": "3b429b16",
      "metadata": {},
      "source": [
        "Our data is now prepared and ready to enter the model.\n",
        "\n",
        "## Modeling - Machine Learning\n",
        "According to the information in our Data Mining in Python workbook, KNN is an instance-based learning algorithm. It stores all of the training data and makes predictions based on the similarity between the input instance and the stored instances. The prediction is based on the majority class among the K nearest neighbors of the input instance.\n",
        "\n",
        "KNN in pseudocode: "
      ]
    },
    {
      "cell_type": "code",
      "execution_count": null,
      "id": "4cd0ddff",
      "metadata": {
        "vscode": {
          "languageId": "python"
        }
      },
      "outputs": [],
      "source": [
        "# for each instance in the test set:\n",
        "#     for each instance in the training set:\n",
        "#         calculate the distance between the two instances\n",
        "#     sort the distances in ascending order\n",
        "#     find the K nearest neighbors\n",
        "#     predict the class based on the majority class among the K "
      ]
    },
    {
      "cell_type": "markdown",
      "id": "9020b0ad",
      "metadata": {},
      "source": [
        "We only need a few lines of code to train our model using the fit() function. This will train our model to be applied to the test data. It goes as follows:\n"
      ]
    },
    {
      "cell_type": "code",
      "execution_count": null,
      "id": "6f390892",
      "metadata": {
        "vscode": {
          "languageId": "python"
        }
      },
      "outputs": [],
      "source": [
        "knn = KNeighborsClassifier(n_neighbors=5)\n",
        "knn.fit(X_train, y_train)"
      ]
    },
    {
      "cell_type": "markdown",
      "id": "3333cdcc",
      "metadata": {},
      "source": [
        "Now using the predict function, we can use the trained model to predict the test data:\n"
      ]
    },
    {
      "cell_type": "code",
      "execution_count": null,
      "id": "ffd4a88c",
      "metadata": {
        "vscode": {
          "languageId": "python"
        }
      },
      "outputs": [],
      "source": [
        "y_pred = knn.predict(X_test)"
      ]
    },
    {
      "cell_type": "markdown",
      "id": "992bf65f",
      "metadata": {},
      "source": [
        "The predicted and actual outcomes can now be visualized in a table like the diffusion table. For this diffusion table we will use the confusionmatrix functions.\n"
      ]
    },
    {
      "cell_type": "code",
      "execution_count": null,
      "id": "fbf3b9bf",
      "metadata": {
        "vscode": {
          "languageId": "python"
        }
      },
      "outputs": [],
      "source": [
        "cm = confusion_matrix(y_test, y_pred, labels=knn.classes_)\n",
        "cm\n",
        "\n",
        "disp = ConfusionMatrixDisplay(confusion_matrix=cm, display_labels=knn.classes_)\n",
        "disp.plot()\n",
        "\n",
        "plt.show()"
      ]
    },
    {
      "cell_type": "markdown",
      "id": "b74d2476",
      "metadata": {},
      "source": [
        "## Evaluation and Deployment\n",
        "A simple evaluation of our model can be done with code as well as looking at our generated diffusion table.\n",
        "\n",
        "The code that we can use will simply give the values for how accurate our model was and how efficient it was:"
      ]
    },
    {
      "cell_type": "code",
      "execution_count": null,
      "id": "627339c8",
      "metadata": {
        "vscode": {
          "languageId": "python"
        }
      },
      "outputs": [],
      "source": [
        "#Check performance using accuracy - Accuracy score of the model\n",
        "print(accuracy_score(y_test, y_pred))\n",
        "#Check performance using roc - Efficiency score of the model\n",
        "roc_auc_score(y_test, y_pred)"
      ]
    },
    {
      "cell_type": "markdown",
      "id": "62a7ec62",
      "metadata": {},
      "source": [
        "If we take a look at our earlier diffusion table, we can see that the model generated a lot of false negatives which could indicate that our model was not extremely accurate. The code however indicates that our model was about 76% accurate and 70% efficient.\n",
        "\n",
        "The many false negatives can be potentially dangerous, if a patient is told \"Nothing to worry about, you don't have diabetes\" and he/she in fact does have diabetes. It could be putting the patient at an unnecessary high risk\n",
        "\n",
        "## Reviewer' notes\n",
        "reviewer adds suggestions for improving the model"
      ]
    }
  ],
  "metadata": {
    "kernelspec": {
      "display_name": "Python 3",
      "language": "python",
      "name": "python3"
    }
  },
  "nbformat": 4,
  "nbformat_minor": 5
}
