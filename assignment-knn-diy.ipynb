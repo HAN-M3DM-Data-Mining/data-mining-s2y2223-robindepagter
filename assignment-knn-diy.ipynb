{
  "cells": [
    {
      "cell_type": "raw",
      "id": "ade51de5",
      "metadata": {},
      "source": [
        "---\n",
        "title: \"Assigment - kNN Diabetes\"\n",
        "author:\n",
        "  - Robin de Pagter - Author\n",
        "  - Kevin Hoksbergen - Reviewer\n",
        "date: \"`r format(Sys.time(), '%d %B, %Y')`\"\n",
        "output:\n",
        "   html_notebook:\n",
        "    toc: true\n",
        "    toc_depth: 2\n",
        "---"
      ]
    },
    {
      "cell_type": "code",
      "execution_count": null,
      "id": "10cb5bec",
      "metadata": {
        "vscode": {
          "languageId": "python"
        }
      },
      "outputs": [],
      "source": [
        "import pandas as pd\n",
        "import numpy as np\n",
        "from sklearn.model_selection import train_test_split\n",
        "from sklearn.neighbors import KNeighborsClassifier\n",
        "from sklearn.metrics import confusion_matrix, ConfusionMatrixDisplay\n",
        "import matplotlib.pyplot as plt"
      ]
    },
    {
      "cell_type": "markdown",
      "id": "416c244a",
      "metadata": {},
      "source": [
        "Choose a suitable dataset from [this](https://github.com/HAN-M3DM-Data-Mining/assignments/tree/master/datasets) folder and train  your own kNN model. Follow all the steps from the CRISP-DM model.\n",
        "\n",
        "## Business Understanding - \n",
        "The dataset that is used in this kNN model, is that of people above the age of 21 who have been tested for diabetes. Some of these people are diabetic and some were tested not to be diabetic. The goal of the machine learning model that will be built is to determine, with the available data, whether or not a person could possibly be diabetic. By simply testing certain parts of the person's health, we could use the ML-model to quickly determine which person could have diabetes and who could not. This can than be used to further aid the person that has been tested.\n",
        "\n",
        "## Data Understanding\n",
        "The data used is that of the \"National Institute of Diabetes and Digestive and Kidney Diseases\" and has been made available for research purposes. The dataset includes certain values that are used to determine possible diabetes, like bloodpressure, insulin, and BMI. All data originates from atleast 21 year old females of Pima Indian Heritage\n",
        "\n",
        "The data is in the format of CSV for easy use, it will be imported from a github enviroment.\n",
        "\n",
        "To load the data into our script, the following code will be used:\n"
      ]
    },
    {
      "cell_type": "code",
      "execution_count": null,
      "id": "a0661dd1",
      "metadata": {
        "vscode": {
          "languageId": "python"
        }
      },
      "outputs": [],
      "source": [
        "URL = \"datasets\\KNN-diabetes.csv\"\n",
        "RawData = pd.read_csv(URL)"
      ]
    },
    {
      "cell_type": "markdown",
      "id": "64aad7ca",
      "metadata": {},
      "source": [
        "To preview the columns and their data types, the following line of code can be used:\n"
      ]
    },
    {
      "cell_type": "code",
      "execution_count": null,
      "id": "6a835e83",
      "metadata": {
        "vscode": {
          "languageId": "python"
        }
      },
      "outputs": [],
      "source": [
        "RawData.info()"
      ]
    },
    {
      "cell_type": "markdown",
      "id": "38296b77",
      "metadata": {},
      "source": [
        "<class 'pandas.core.frame.DataFrame'>\n",
        "RangeIndex: 768 entries, 0 to 767\n",
        "Data columns (total 9 columns):\n",
        " #   Column                    Non-Null Count  Dtype  \n",
        "---  ------                    --------------  -----  \n",
        " 0   Pregnancies               768 non-null    int64  \n",
        " 1   Glucose                   768 non-null    int64  \n",
        " 2   BloodPressure             768 non-null    int64  \n",
        " 3   SkinThickness             768 non-null    int64  \n",
        " 4   Insulin                   768 non-null    int64  \n",
        " 5   BMI                       768 non-null    float64\n",
        " 6   DiabetesPedigreeFunction  768 non-null    float64\n",
        " 7   Age                       768 non-null    int64  \n",
        " 8   Outcome                   768 non-null    int64  \n",
        "dtypes: float64(2), int64(7)\n",
        "memory usage: 54.1 KB\n",
        "\n",
        "## Data Preparation\n",
        "Super awesome test bro\n",
        "\n",
        "## Modeling\n",
        "text and code here\n",
        "\n",
        "## Evaluation and Deployment\n",
        "text and code here\n",
        "\n",
        "reviewer adds suggestions for improving the model"
      ]
    }
  ],
  "metadata": {
    "kernelspec": {
      "display_name": "Python 3",
      "language": "python",
      "name": "python3"
    }
  },
  "nbformat": 4,
  "nbformat_minor": 5
}
