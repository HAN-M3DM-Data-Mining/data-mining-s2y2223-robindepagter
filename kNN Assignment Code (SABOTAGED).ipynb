{
 "cells": [
  {
   "attachments": {},
   "cell_type": "markdown",
   "metadata": {},
   "source": [
    "Library import\n"
   ]
  },
  {
   "cell_type": "code",
   "execution_count": null,
   "metadata": {},
   "outputs": [],
   "source": [
    "import pandas as panda\n",
    "from sklearn.model_selection import train_test_split\n",
    "from sklearn.neighbors import KNeighborsClassifier\n",
    "from sklearn.metrics import confusion_matrix, ConfusionMatrixDisplay\n",
    "import matplotlib.pyplot as plt\n",
    "from sklearn.metrics import accuracy_scores\n"
   ]
  },
  {
   "attachments": {},
   "cell_type": "markdown",
   "metadata": {},
   "source": [
    "Data import\n"
   ]
  },
  {
   "cell_type": "code",
   "execution_count": null,
   "metadata": {},
   "outputs": [],
   "source": [
    "URL = \"https://raw.githubusercontent.com/HAN-M3DM-Data-Mining/data-mining-s2y2223-robindepagter/master/datasets/KNN-diabetes.csv\"\n",
    "rawData = pd.read_xslx(URL)\n",
    "rawData.info()\n"
   ]
  },
  {
   "attachments": {},
   "cell_type": "markdown",
   "metadata": {},
   "source": [
    "Data Prep\n"
   ]
  },
  {
   "cell_type": "code",
   "execution_count": null,
   "metadata": {},
   "outputs": [],
   "source": [
    "# As far as the dataset goes, there are no columns that can not be used for predicting diabetes, in other words: nothing has to be eliminated from the dataset.\n",
    "prepData = rawData\n",
    "prepData.head()\n",
    "\n",
    "# The column 'Outcome' is what we want to predict, 1 is tested and diagnosed with Diabetes and 0 is tested but not diagnosed with diabetes.\n",
    "cntOutcome = prepData['Outcome'].value_counts()\n",
    "normalizedOutcome = prepData['Outcome'].value_counts(normalize=True)\n",
    "\n",
    "# Amount of Outcomes\n",
    "print(\"Outcomes \\n\",cntOutcome)\n",
    "\n",
    "# Normalized amount of Outcomes\n",
    "print(\"\\n Normalized outcomes \\n\", normalizedOutcome)\n",
    "\n",
    "# Transform the column 'Outcome' to the type Category instead of integer.\n",
    "# This is necessary since most models in general cannot use an Integer as a category, they require a column of the type 'Category\n",
    "catType = pd.CategoricalDtype(categories=[0, 1], ordered=False)\n",
    "prepData['Outcome'] = prepData['Outcome'].astype(catType)\n",
    "\n",
    "# To see if it worked, uncomment the follow line of code:\n",
    "# prepData.info()\n",
    "\n",
    "#### IMPORTANT INFORMATION####\n",
    "# To use our data for the model we must first prepare it.\n",
    "# For testing purposes different preparing methods have been used like robust and standard scaling.\n",
    "# None of which increased the accuracy of the KNN model above a normalized dataset.\n",
    "# Normalizing data will prevent certain broader ranges of data to negatively influence our outcomes.\n",
    "# To normalize our data we will create a normalizing function\n",
    "\n",
    "\n",
    "def normalize(x):\n",
    "    return ((max(x) - min(x)) / (max(x) - min(x))\n",
    "            )  # function to normalize\n",
    "\n",
    "\n",
    "excluded = ['Outcome']  # This column will be excluded\n",
    "# This will fetch the data minus the excluded column and put it into the variable X\n",
    "x = prepData.loc[:, ~prepData.columns.isin(excluded)]\n",
    "# This will drag the variable X through the normalize function\n",
    "x = x.apply(normalize, axis=0)\n",
    "print(x[['Glucose', 'BloodPressure', 'SkinThickness', 'Insulin', 'BMI', 'DiabetesPedigreeFunction']\n",
    "  ].describe())  # This is the same as earlier code but now normalized\n",
    "\n",
    "# for the final preparation we will split our data into two group: Test and Train using the following function:\n",
    "y = prepData['Outcome']\n",
    "# Test and train will be 25/75 percent of the data. Stratify: ratio yes and no are equal in test and train set\n",
    "X_train, X_test, y_train, y_test = train_test_split(\n",
    "    x, y, test_size=0.25, random_state=123, stratify=y)\n",
    "\n",
    "##################################\n",
    "# DATA PREPARATION IS NOW COMPLETE#\n",
    "##################################\n"
   ]
  },
  {
   "attachments": {},
   "cell_type": "markdown",
   "metadata": {},
   "source": [
    "Modelling and evaluation\n"
   ]
  },
  {
   "cell_type": "code",
   "execution_count": null,
   "metadata": {},
   "outputs": [],
   "source": [
    "# After the preparation we can finally begin to model and execute the code. For k-Nearest Neighbour we can use the following code:\n",
    "\n",
    "# Model in Pseudocode:\n",
    "#  for each instance in the test set:\n",
    "#     for each instance in the training set:\n",
    "#         calculate the distance between the two instances\n",
    "#     sort the distances in ascending order\n",
    "#     find the K nearest neighbors\n",
    "#     predict the class based on the majority class among the K nearest neighbors\n",
    "\n",
    "# Model in python code:\n",
    "knn = KNeighborsClassifier(n_neighbors=5.5)\n",
    "# This means that it will classify the data using it's 5 nearest neighbours.\n",
    "# So in other words: I have 5 neighbours with similar data, what is their classification? If most or all, for example, are category 1, it will apply category 1.\n",
    "\n",
    "knn.fit(X_train, y_train)\n",
    "y_pred = knn.predict(X_test)\n",
    "\n",
    "cm = confusion_matrix(y_test, y_pred, labels=knn.classes_)\n",
    "cm\n",
    "\n",
    "disp = ConfusionMatrixDisplay(confusion_matrix=cm, display_labels=knn.classes_)\n",
    "disp.plot()\n",
    "\n",
    "plt.show()\n",
    "\n",
    "# Check performance using accuracy - Accuracy score of the model\n",
    "print(\"Accuracy: \", accuracy_score(y_test, y_pred))\n",
    "\n",
    "# If we take a look at our diffusion table, we can see that the model generated a lot of false negatives which could indicate that our model was not extremely accurate.\n",
    "# The code however indicates that our model was about 78% accurate which is probably, in the context of the model, not accurate enough to be usable in practice.\n",
    "\n",
    "# The many false negatives can be potentially dangerous, if a patient is told \"Nothing to worry about, you don't have diabetes\" and he/she in fact does have diabetes.\n",
    "# It could be putting the patient at an unnecessary high risk.\n"
   ]
  }
 ],
 "metadata": {
  "kernelspec": {
   "display_name": "Python 3",
   "language": "python",
   "name": "python3"
  },
  "language_info": {
   "codemirror_mode": {
    "name": "ipython",
    "version": 3
   },
   "file_extension": ".py",
   "mimetype": "text/x-python",
   "name": "python",
   "nbconvert_exporter": "python",
   "pygments_lexer": "ipython3",
   "version": "3.10.10"
  },
  "orig_nbformat": 4,
  "vscode": {
   "interpreter": {
    "hash": "5dcff011584d56f021e905469e8be973e7f8c14dd33d7dbedb64170103f4ac39"
   }
  }
 },
 "nbformat": 4,
 "nbformat_minor": 2
}
