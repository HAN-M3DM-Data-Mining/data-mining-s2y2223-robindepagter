{
 "cells": [
  {
   "attachments": {},
   "cell_type": "markdown",
   "metadata": {},
   "source": [
    "Library import"
   ]
  },
  {
   "cell_type": "code",
   "execution_count": 37,
   "metadata": {},
   "outputs": [],
   "source": [
    "import pandas as panda\n",
    "from sklearn.model_selection import train_test_split\n",
    "from sklearn.neighbors import KNeighborsClassifier\n",
    "from sklearn.metrics import confusion_matrix, ConfusionMatrixDisplay\n",
    "import matplotlib.pyplot as plt\n",
    "from sklearn.metrics import accuracy_score\n",
    "from sklearn.metrics import roc_auc_score"
   ]
  },
  {
   "attachments": {},
   "cell_type": "markdown",
   "metadata": {},
   "source": [
    "Data import"
   ]
  },
  {
   "cell_type": "code",
   "execution_count": 38,
   "metadata": {},
   "outputs": [
    {
     "name": "stdout",
     "output_type": "stream",
     "text": [
      "<class 'pandas.core.frame.DataFrame'>\n",
      "RangeIndex: 768 entries, 0 to 767\n",
      "Data columns (total 9 columns):\n",
      " #   Column                    Non-Null Count  Dtype  \n",
      "---  ------                    --------------  -----  \n",
      " 0   Pregnancies               768 non-null    int64  \n",
      " 1   Glucose                   768 non-null    int64  \n",
      " 2   BloodPressure             768 non-null    int64  \n",
      " 3   SkinThickness             768 non-null    int64  \n",
      " 4   Insulin                   768 non-null    int64  \n",
      " 5   BMI                       768 non-null    float64\n",
      " 6   DiabetesPedigreeFunction  768 non-null    float64\n",
      " 7   Age                       768 non-null    int64  \n",
      " 8   Outcome                   768 non-null    int64  \n",
      "dtypes: float64(2), int64(7)\n",
      "memory usage: 54.1 KB\n"
     ]
    }
   ],
   "source": [
    "URL = \"datasets\\KNN-diabetes.xlsx\"\n",
    "rawData = pd.read_csv(URL)\n",
    "rawData.info()\n"
   ]
  },
  {
   "attachments": {},
   "cell_type": "markdown",
   "metadata": {},
   "source": [
    "Data Prep"
   ]
  },
  {
   "cell_type": "code",
   "execution_count": 39,
   "metadata": {},
   "outputs": [
    {
     "name": "stdout",
     "output_type": "stream",
     "text": [
      "<class 'pandas.core.frame.DataFrame'>\n",
      "RangeIndex: 768 entries, 0 to 767\n",
      "Data columns (total 9 columns):\n",
      " #   Column                    Non-Null Count  Dtype   \n",
      "---  ------                    --------------  -----   \n",
      " 0   Pregnancies               768 non-null    int64   \n",
      " 1   Glucose                   768 non-null    int64   \n",
      " 2   BloodPressure             768 non-null    int64   \n",
      " 3   SkinThickness             768 non-null    int64   \n",
      " 4   Insulin                   768 non-null    int64   \n",
      " 5   BMI                       768 non-null    float64 \n",
      " 6   DiabetesPedigreeFunction  768 non-null    float64 \n",
      " 7   Age                       768 non-null    int64   \n",
      " 8   Outcome                   768 non-null    category\n",
      "dtypes: category(1), float64(2), int64(6)\n",
      "memory usage: 49.0 KB\n"
     ]
    }
   ],
   "source": [
    "#As far as the dataset goes, there are no columns that can not be used for predicting diabetes in other words: nothing has to be eliminated from the dataset.\n",
    "prepData = rawData\n",
    "prepData.head()\n",
    "\n",
    "#The column 'Outcome' is what we want to predict, 1 is tested and diagnosed with Diabetes and 0 is tested but not diagnosed with diabetes.\n",
    "cntOutcome = prepData['Outcome'].value_counts()\n",
    "propOutcome = prepData['Outcome'].value_counts(normalize=True)\n",
    "\n",
    "#Amount of Outcomes\n",
    "cntOutcome\n",
    "\n",
    "#Normalized amount of Outcomes\n",
    "propOutcome\n",
    "\n",
    "#Transform the column 'Outcome' to the type Category instead of integer. \n",
    "#This is necessary since most models in general cannot use an Integer as a category, they require a column of the type 'Category\n",
    "catType = pd.CategoricalDtype(categories=[0, 1], ordered=False)\n",
    "prepData['Outcome'] = prepData['Outcome'].astype(catType)\n",
    "prepData['Outcome']\n",
    "\n",
    "#To see if it worked, uncomment the follow line of code (22):\n",
    "prepData.info()\n",
    "\n",
    "#The data set contains 7 fields on which the outcome can be based. The following line of code allows us to take a more detailed look into the data:\n",
    "#prepData[['Pregnancies', 'Glucose', 'BloodPressure', 'SkinThickness','Insulin','BMI','DiabetesPedigreeFunction', 'Age']].describe()\n",
    "\n",
    "#To have a more realistic and clear view the data, we will normalize it so we can make better comparisons for each column\n",
    "def normalize(x):\n",
    "  return((x - min(x)) / (max(x) - min(x))) #function to normalize\n",
    "\n",
    "excluded = ['Outcome'] #This column will be excluded\n",
    "X = prepData.loc[:, ~prepData.columns.isin(excluded)] #This will fetch the data minus the excluded column and put it into the variable X\n",
    "X = X.apply(normalize, axis=0) #This will drag the variable X through the normalize function\n",
    "X[['Glucose', 'Bloedpressure', 'SkinThickness', 'Insulin', 'BMI', 'DiabetesPedigreeFunction']].describe() #This is the same as earlier code but now normalized\n",
    "\n",
    "#for the final preparation we will split our data into two group: Test and Train using the following function:\n",
    "y = prepData['Outcome']\n",
    "X_train, X_test, y_train, y_test = train_test_split(X, y, test_size=0.3, random_state=123, stratify=y) #Test and train will be 30/70 percent of the data. Stratify: ratio yes and no are equal in test and train set\n",
    "\n",
    "##################################\n",
    "#DATA PREPARATION IS NOW COMPLETE#\n",
    "##################################"
   ]
  },
  {
   "attachments": {},
   "cell_type": "markdown",
   "metadata": {},
   "source": [
    "Modelling and evaluation"
   ]
  },
  {
   "cell_type": "code",
   "execution_count": 1,
   "metadata": {},
   "outputs": [
    {
     "ename": "NameError",
     "evalue": "name 'KNeighborsClassifier' is not defined",
     "output_type": "error",
     "traceback": [
      "\u001b[1;31m---------------------------------------------------------------------------\u001b[0m",
      "\u001b[1;31mNameError\u001b[0m                                 Traceback (most recent call last)",
      "Cell \u001b[1;32mIn[1], line 12\u001b[0m\n\u001b[0;32m      1\u001b[0m \u001b[39m#After the preparation we can finally begin to model and execute the code. For k-Nearest Neighbour we can use the following code:\u001b[39;00m\n\u001b[0;32m      2\u001b[0m \n\u001b[0;32m      3\u001b[0m \u001b[39m#Model in Pseudocode:\u001b[39;00m\n\u001b[1;32m   (...)\u001b[0m\n\u001b[0;32m     10\u001b[0m \n\u001b[0;32m     11\u001b[0m \u001b[39m#Model in python code:\u001b[39;00m\n\u001b[1;32m---> 12\u001b[0m knn \u001b[39m=\u001b[39m KNeighborsClassifier(n_neighbors\u001b[39m=\u001b[39m\u001b[39m0.4\u001b[39m) \n\u001b[0;32m     13\u001b[0m \u001b[39m#This means that it will classify the data using it's 10 nearest neighbours. \u001b[39;00m\n\u001b[0;32m     14\u001b[0m \u001b[39m#So in other words: I have 10 neighbours with similar data, what is their classification? If most or all, for example, are category 1, it will apply category 1.\u001b[39;00m\n\u001b[0;32m     16\u001b[0m knn\u001b[39m.\u001b[39mfit(X_train, y_train)\n",
      "\u001b[1;31mNameError\u001b[0m: name 'KNeighborsClassifier' is not defined"
     ]
    }
   ],
   "source": [
    "#After the preparation we can finally begin to model and execute the code. For k-Nearest Neighbour we can use the following code:\n",
    "\n",
    "#Model in Pseudocode:\n",
    "# for each instance in the test set:\n",
    "#     for each instance in the training set:\n",
    "#         calculate the distance between the two instances\n",
    "#     sort the distances in ascending order\n",
    "#     find the K nearest neighbors\n",
    "#     predict the class based on the majority class among the K nearest neighbors\n",
    "\n",
    "#Model in python code:\n",
    "knn = KNeighborsClassifier(n_neighbors=5.1) \n",
    "#This means that it will classify the data using it's 10 nearest neighbours. \n",
    "#So in other words: I have 10 neighbours with similar data, what is their classification? If most or all, for example, are category 1, it will apply category 1.\n",
    "\n",
    "knn.fit(X_train, y_train)\n",
    "y_pred = knn.predict(X_test)\n",
    "\n",
    "cm = confusion_matrix(y_test, y_pred, labels=knn.classes_)\n",
    "cm\n",
    "\n",
    "disp = ConfusionMatrixDisplay(confusion_matrix=cm, display_labels=knn.classes_)\n",
    "disp.plot()\n",
    "\n",
    "plt.show()\n",
    "\n",
    "#Check performance using accuracy - Accuracy score of the model\n",
    "print(\"Accuracy: \", accuracy_score(y_test, y_pred))\n",
    "#Check performance using roc - Efficiency score of the model\n",
    "print(\"Efficiency: \", roc_auc_score(y_test, y_pred))\n"
   ]
  }
 ],
 "metadata": {
  "kernelspec": {
   "display_name": "Python 3",
   "language": "python",
   "name": "python3"
  },
  "language_info": {
   "codemirror_mode": {
    "name": "ipython",
    "version": 3
   },
   "file_extension": ".py",
   "mimetype": "text/x-python",
   "name": "python",
   "nbconvert_exporter": "python",
   "pygments_lexer": "ipython3",
   "version": "3.10.10"
  },
  "orig_nbformat": 4,
  "vscode": {
   "interpreter": {
    "hash": "5dcff011584d56f021e905469e8be973e7f8c14dd33d7dbedb64170103f4ac39"
   }
  }
 },
 "nbformat": 4,
 "nbformat_minor": 2
}
