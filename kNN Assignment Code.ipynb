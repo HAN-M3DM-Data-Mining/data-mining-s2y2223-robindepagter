{
 "cells": [
  {
   "attachments": {},
   "cell_type": "markdown",
   "metadata": {},
   "source": [
    "Library import"
   ]
  },
  {
   "cell_type": "code",
<<<<<<< HEAD
<<<<<<< HEAD
   "execution_count": 12,
=======
   "execution_count": 37,
>>>>>>> 5aeef1263c35c247752b2bd2ef4ee64493943b9a
=======
   "execution_count": 4,
>>>>>>> parent of e7bd422 (Demo gegeven aan Chris)
   "metadata": {},
   "outputs": [],
   "source": [
    "import pandas as pd\n",
<<<<<<< HEAD
    "import numpy as np\n",
    "from sklearn.model_selection import train_test_split\n",
    "from sklearn.neighbors import KNeighborsClassifier\n",
    "from sklearn.metrics import confusion_matrix, ConfusionMatrixDisplay\n",
    "import matplotlib.pyplot as plt"
=======
    "from sklearn.model_selection import train_test_split\n",
    "from sklearn.neighbors import KNeighborsClassifier\n",
    "from sklearn.metrics import confusion_matrix, ConfusionMatrixDisplay\n",
    "import matplotlib.pyplot as plt\n",
    "from sklearn.metrics import accuracy_score\n",
    "from sklearn.metrics import roc_auc_score"
>>>>>>> 5aeef1263c35c247752b2bd2ef4ee64493943b9a
   ]
  },
  {
   "attachments": {},
   "cell_type": "markdown",
   "metadata": {},
   "source": [
    "Data import"
   ]
  },
  {
   "cell_type": "code",
<<<<<<< HEAD
<<<<<<< HEAD
   "execution_count": 13,
=======
   "execution_count": 38,
>>>>>>> 5aeef1263c35c247752b2bd2ef4ee64493943b9a
=======
   "execution_count": 5,
>>>>>>> parent of e7bd422 (Demo gegeven aan Chris)
   "metadata": {},
   "outputs": [
    {
     "name": "stdout",
     "output_type": "stream",
     "text": [
      "<class 'pandas.core.frame.DataFrame'>\n",
      "RangeIndex: 768 entries, 0 to 767\n",
      "Data columns (total 9 columns):\n",
      " #   Column                    Non-Null Count  Dtype  \n",
      "---  ------                    --------------  -----  \n",
      " 0   Pregnancies               768 non-null    int64  \n",
      " 1   Glucose                   768 non-null    int64  \n",
      " 2   BloodPressure             768 non-null    int64  \n",
      " 3   SkinThickness             768 non-null    int64  \n",
      " 4   Insulin                   768 non-null    int64  \n",
      " 5   BMI                       768 non-null    float64\n",
      " 6   DiabetesPedigreeFunction  768 non-null    float64\n",
      " 7   Age                       768 non-null    int64  \n",
      " 8   Outcome                   768 non-null    int64  \n",
      "dtypes: float64(2), int64(7)\n",
      "memory usage: 54.1 KB\n"
     ]
    }
   ],
   "source": [
    "URL = \"datasets\\KNN-diabetes.csv\"\n",
<<<<<<< HEAD
<<<<<<< HEAD
    "RawData = pd.read_csv(URL)\n",
    "RawData.info()\n"
=======
    "rawData = pd.read_csv(URL)\n",
<<<<<<< HEAD
    "rawData.info()\n",
>>>>>>> 5aeef1263c35c247752b2bd2ef4ee64493943b9a
=======
    "rawData.info()\n"
>>>>>>> parent of 5aeef12 (Fout toegevoegd)
=======
    "RawData = pd.read_csv(URL)\n",
    "RawData.info()\n"
>>>>>>> parent of e7bd422 (Demo gegeven aan Chris)
   ]
  },
  {
   "attachments": {},
   "cell_type": "markdown",
   "metadata": {},
   "source": [
    "Data Prep"
   ]
  },
  {
   "cell_type": "code",
<<<<<<< HEAD
<<<<<<< HEAD
   "execution_count": 14,
=======
   "execution_count": 39,
>>>>>>> 5aeef1263c35c247752b2bd2ef4ee64493943b9a
=======
   "execution_count": 6,
>>>>>>> parent of e7bd422 (Demo gegeven aan Chris)
   "metadata": {},
   "outputs": [
    {
     "name": "stdout",
     "output_type": "stream",
     "text": [
      "<class 'pandas.core.frame.DataFrame'>\n",
      "RangeIndex: 768 entries, 0 to 767\n",
      "Data columns (total 7 columns):\n",
      " #   Column                    Non-Null Count  Dtype   \n",
      "---  ------                    --------------  -----   \n",
      " 0   Glucose                   768 non-null    int64   \n",
      " 1   BloodPressure             768 non-null    int64   \n",
      " 2   SkinThickness             768 non-null    int64   \n",
      " 3   Insulin                   768 non-null    int64   \n",
      " 4   BMI                       768 non-null    float64 \n",
      " 5   DiabetesPedigreeFunction  768 non-null    float64 \n",
      " 6   Outcome                   768 non-null    category\n",
      "dtypes: category(1), float64(2), int64(4)\n",
      "memory usage: 37.0 KB\n"
     ]
    }
   ],
   "source": [
    "#As far as the dataset goes, there are no columns that can not be used for predicting diabetes in other words: nothing has to be eliminated from the dataset.\n",
<<<<<<< HEAD
<<<<<<< HEAD
    "PrepData = RawData\n",
    "PrepData.head()\n",
    "\n",
    "#The column 'Outcome' is what we want to predict, 1 is tested and diagnosed with Diabetes and 0 is tested but not diagnosed with diabetes.\n",
    "cntOutcome = PrepData['Outcome'].value_counts()\n",
    "propOutcome = PrepData['Outcome'].value_counts(normalize=True)\n",
=======
    "prepData = rawData\n",
    "prepData.head()\n",
    "\n",
    "#The column 'Outcome' is what we want to predict, 1 is tested and diagnosed with Diabetes and 0 is tested but not diagnosed with diabetes.\n",
    "cntOutcome = prepData['Outcome'].value_counts()\n",
    "propOutcome = prepData['Outcome'].value_counts(normalize=True)\n",
>>>>>>> 5aeef1263c35c247752b2bd2ef4ee64493943b9a
=======
    "PrepData = RawData\n",
    "PrepData.head()\n",
    "\n",
    "#The column 'Outcome' is what we want to predict, 1 is tested and diagnosed with Diabetes and 0 is tested but not diagnosed with diabetes.\n",
    "cntOutcome = PrepData['Outcome'].value_counts()\n",
    "propOutcome = PrepData['Outcome'].value_counts(normalize=True)\n",
>>>>>>> parent of e7bd422 (Demo gegeven aan Chris)
    "\n",
    "#Amount of Outcomes\n",
    "cntOutcome\n",
    "\n",
    "#Normalized amount of Outcomes\n",
    "propOutcome\n",
    "\n",
    "#Transform the column 'Outcome' to the type Category instead of integer. \n",
    "#This is necessary since most models in general cannot use an Integer as a category, they require a column of the type 'Category\n",
    "catType = pd.CategoricalDtype(categories=[0, 1], ordered=False)\n",
<<<<<<< HEAD
<<<<<<< HEAD
    "PrepData['Outcome'] = PrepData['Outcome'].astype(catType)\n",
    "PrepData['Outcome']\n",
    "\n",
    "#To see if it worked, uncomment the follow line of code (22):\n",
    "PrepData.info()\n",
    "\n",
    "#The data set contains 7 fields on which the outcome can be based. The following line of code allows us to take a more detailed look into the data:\n",
    "#PrepData[['Pregnancies', 'Glucose', 'BloodPressure', 'SkinThickness','Insulin','BMI','DiabetesPedigreeFunction', 'Age']].describe()\n",
=======
    "prepData['Outcome'] = prepData['Outcome'].astype(catType)\n",
    "prepData['Outcome']\n",
=======
    "PrepData['Outcome'] = PrepData['Outcome'].astype(catType)\n",
    "PrepData['Outcome']\n",
>>>>>>> parent of e7bd422 (Demo gegeven aan Chris)
    "\n",
    "#To see if it worked, uncomment the follow line of code (22):\n",
    "PrepData.info()\n",
    "\n",
    "#The data set contains 7 fields on which the outcome can be based. The following line of code allows us to take a more detailed look into the data:\n",
<<<<<<< HEAD
    "#prepData[['Pregnancies', 'Glucose', 'BloodPressure', 'SkinThickness','Insulin','BMI','DiabetesPedigreeFunction', 'Age']].describe()\n",
>>>>>>> 5aeef1263c35c247752b2bd2ef4ee64493943b9a
=======
    "#PrepData[['Pregnancies', 'Glucose', 'BloodPressure', 'SkinThickness','Insulin','BMI','DiabetesPedigreeFunction', 'Age']].describe()\n",
>>>>>>> parent of e7bd422 (Demo gegeven aan Chris)
    "\n",
    "#To have a more realistic and clear view the data, we will normalize it so we can make better comparisons for each column\n",
    "def normalize(x):\n",
    "  return((x - min(x)) / (max(x) - min(x))) #function to normalize\n",
    "\n",
    "excluded = ['Outcome'] #This column will be excluded\n",
<<<<<<< HEAD
<<<<<<< HEAD
    "X = PrepData.loc[:, ~PrepData.columns.isin(excluded)] #This will fetch the data minus the excluded column and put it into the variable X\n",
    "X = X.apply(normalize, axis=0) #This will drag the variable X through the normalize function\n",
    "X[['Pregnancies', 'Glucose', 'BloodPressure', 'SkinThickness', 'Insulin', 'BMI', 'DiabetesPedigreeFunction', 'Age']].describe() #This is the same as earlier code but now normalized\n",
    "\n",
    "#for the final preparation we will split our data into two group: Test and Train using the following function:\n",
    "y = PrepData['Outcome']\n",
    "X_train, X_test, y_train, y_test = train_test_split(X, y, test_size=0.3, random_state=123, stratify=y) #Test and train will be 30/70 percent of the data.\n",
=======
    "X = prepData.loc[:, ~prepData.columns.isin(excluded)] #This will fetch the data minus the excluded column and put it into the variable X\n",
=======
    "X = PrepData.loc[:, ~PrepData.columns.isin(excluded)] #This will fetch the data minus the excluded column and put it into the variable X\n",
>>>>>>> parent of e7bd422 (Demo gegeven aan Chris)
    "X = X.apply(normalize, axis=0) #This will drag the variable X through the normalize function\n",
    "X[['Glucose', 'BloodPressure', 'SkinThickness', 'Insulin', 'BMI', 'DiabetesPedigreeFunction']].describe() #This is the same as earlier code but now normalized\n",
    "\n",
    "#for the final preparation we will split our data into two group: Test and Train using the following function:\n",
<<<<<<< HEAD
    "y = prepData['Outcome']\n",
    "X_train, X_test, y_train, y_test = train_test_split(X, y, test_size=0.3, random_state=123, stratify=y) #Test and train will be 30/70 percent of the data. Stratify: ratio yes and no are equal in test and train set\n",
>>>>>>> 5aeef1263c35c247752b2bd2ef4ee64493943b9a
=======
    "y = PrepData['Outcome']\n",
    "X_train, X_test, y_train, y_test = train_test_split(X, y, test_size=0.3, random_state=123, stratify=y) #Test and train will be 30/70 percent of the data.\n",
>>>>>>> parent of e7bd422 (Demo gegeven aan Chris)
    "\n",
    "##################################\n",
    "#DATA PREPARATION IS NOW COMPLETE#\n",
    "##################################"
   ]
  },
  {
   "attachments": {},
   "cell_type": "markdown",
   "metadata": {},
   "source": [
    "Modelling and evaluation"
   ]
  },
  {
   "cell_type": "code",
<<<<<<< HEAD
<<<<<<< HEAD
   "execution_count": 15,
=======
   "execution_count": 40,
>>>>>>> 5aeef1263c35c247752b2bd2ef4ee64493943b9a
=======
   "execution_count": 7,
>>>>>>> parent of e7bd422 (Demo gegeven aan Chris)
   "metadata": {},
   "outputs": [
    {
     "data": {
<<<<<<< HEAD
<<<<<<< HEAD
      "image/png": "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",
=======
      "image/png": "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",
>>>>>>> 5aeef1263c35c247752b2bd2ef4ee64493943b9a
=======
      "image/png": "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",
>>>>>>> parent of e7bd422 (Demo gegeven aan Chris)
      "text/plain": [
       "<Figure size 640x480 with 2 Axes>"
      ]
     },
     "metadata": {},
     "output_type": "display_data"
<<<<<<< HEAD
<<<<<<< HEAD
=======
    },
    {
     "name": "stdout",
     "output_type": "stream",
     "text": [
      "Accuracy:  0.7662337662337663\n",
      "Efficiency:  0.7149382716049384\n"
     ]
>>>>>>> 5aeef1263c35c247752b2bd2ef4ee64493943b9a
=======
>>>>>>> parent of e7bd422 (Demo gegeven aan Chris)
    }
   ],
   "source": [
    "#After the preparation we can finally begin to model and execute the code. For k-Nearest Neighbour we can use the following code:\n",
    "\n",
    "#Model in Pseudocode:\n",
    "# for each instance in the test set:\n",
    "#     for each instance in the training set:\n",
    "#         calculate the distance between the two instances\n",
    "#     sort the distances in ascending order\n",
    "#     find the K nearest neighbors\n",
    "#     predict the class based on the majority class among the K nearest neighbors\n",
    "\n",
    "#Model in python code:\n",
<<<<<<< HEAD
<<<<<<< HEAD
    "knn = KNeighborsClassifier(n_neighbors=10) \n",
=======
    "knn = KNeighborsClassifier(n_neighbors=5) \n",
>>>>>>> 5aeef1263c35c247752b2bd2ef4ee64493943b9a
=======
    "knn = KNeighborsClassifier(n_neighbors=10) \n",
>>>>>>> parent of e7bd422 (Demo gegeven aan Chris)
    "#This means that it will classify the data using it's 10 nearest neighbours. \n",
    "#So in other words: I have 10 neighbours with similar data, what is their classification? If most or all, for example, are category 1, it will apply category 1.\n",
    "\n",
    "knn.fit(X_train, y_train)\n",
    "y_pred = knn.predict(X_test)\n",
    "\n",
    "cm = confusion_matrix(y_test, y_pred, labels=knn.classes_)\n",
    "cm\n",
    "\n",
    "disp = ConfusionMatrixDisplay(confusion_matrix=cm, display_labels=knn.classes_)\n",
    "disp.plot()\n",
    "\n",
<<<<<<< HEAD
<<<<<<< HEAD
    "plt.show()\n"
=======
    "plt.show()\n",
    "\n",
    "#Check performance using accuracy - Accuracy score of the model\n",
    "print(\"Accuracy: \", accuracy_score(y_test, y_pred))\n",
    "#Check performance using roc - Efficiency score of the model\n",
    "print(\"Efficiency: \", roc_auc_score(y_test, y_pred))\n"
>>>>>>> 5aeef1263c35c247752b2bd2ef4ee64493943b9a
=======
    "plt.show()\n"
>>>>>>> parent of e7bd422 (Demo gegeven aan Chris)
   ]
  }
 ],
 "metadata": {
  "kernelspec": {
   "display_name": "Python 3",
   "language": "python",
   "name": "python3"
  },
  "language_info": {
   "codemirror_mode": {
    "name": "ipython",
    "version": 3
   },
   "file_extension": ".py",
   "mimetype": "text/x-python",
   "name": "python",
   "nbconvert_exporter": "python",
   "pygments_lexer": "ipython3",
   "version": "3.10.10"
  },
  "orig_nbformat": 4,
  "vscode": {
   "interpreter": {
    "hash": "5dcff011584d56f021e905469e8be973e7f8c14dd33d7dbedb64170103f4ac39"
   }
  }
 },
 "nbformat": 4,
 "nbformat_minor": 2
}
